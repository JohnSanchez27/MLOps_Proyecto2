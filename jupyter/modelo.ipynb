{
 "cells": [
  {
   "cell_type": "code",
   "execution_count": null,
   "metadata": {},
   "outputs": [],
   "source": [
    "import pandas as pd\n",
    "import mlflow\n",
    "import os\n",
    "\n",
    "from sklearn.preprocessing import StandardScaler, OrdinalEncoder, StandardScaler\n",
    "from sklearn.compose import ColumnTransformer\n",
    "from sklearn.pipeline import Pipeline\n",
    "from sklearn.ensemble import HistGradientBoostingClassifier"
   ]
  },
  {
   "cell_type": "code",
   "execution_count": null,
   "metadata": {},
   "outputs": [],
   "source": [
    "# leer el dataframe y establecer los nombres de las columnas\n",
    "DATA_DIR = \"datos/covertype.csv\"\n",
    "column_names = ['Elevation', 'Aspect', 'Slope', 'Horizontal_Distance_To_Hydrology', 'Vertical_Distance_To_Hydrology', 'Horizontal_Distance_To_Roadways', 'Hillshade_9am', 'Hillshade_Noon', 'Hillshade_3pm', 'Horizontal_Distance_To_Fire_Points', 'Wilderness_Area', 'Soil_Type', 'Cover_Type']\n",
    "data = pd.read_csv(DATA_DIR, names=column_names, header=None)\n",
    "\n",
    "# eliminar duplicados en los datos\n",
    "data.drop_duplicates(inplace=True, ignore_index=True)\n",
    "\n",
    "# mostrar una muestra de los datos\n",
    "data.head()\n"
   ]
  },
  {
   "cell_type": "code",
   "execution_count": null,
   "metadata": {},
   "outputs": [],
   "source": [
    "# almacenar la variable objetivo como un vector y\n",
    "target_variable = \"Cover_Type\"\n",
    "y = data[target_variable]\n",
    "\n",
    "# establecer las variables de entrada X como los datos originales sin la variable objetivo ni las variables categóricas\n",
    "X = data.drop(columns=[target_variable])\n",
    "\n",
    "# transformar las variables para mejorar el rendimiento del modelo\n",
    "categorical_variables = ['Wilderness_Area', 'Soil_Type']\n",
    "numerical_variables = [feature for feature in X.columns if feature not in categorical_variables]\n",
    "\n",
    "preprocessor = ColumnTransformer(\n",
    "    transformers=[\n",
    "        ('categorical', OrdinalEncoder(), categorical_variables),\n",
    "        ('numerical', StandardScaler(), numerical_variables)\n",
    "    ]\n",
    ")"
   ]
  },
  {
   "cell_type": "code",
   "execution_count": null,
   "metadata": {},
   "outputs": [],
   "source": [
    "# definir el clasificador como una máquina de gradiente boosting y combinarlo con el preprocesador\n",
    "classifier = HistGradientBoostingClassifier(categorical_features=[0, 1])\n",
    "\n",
    "model = Pipeline(steps=[\n",
    "    ('preprocess', preprocessor),\n",
    "    ('classifier', classifier)\n",
    "])"
   ]
  },
  {
   "cell_type": "code",
   "execution_count": null,
   "metadata": {},
   "outputs": [],
   "source": [
    "# configurar variables de entorno para MinIO\n",
    "os.environ['MLFLOW_S3_ENDPOINT_URL'] = \"http://10.43.101.108:8081\"\n",
    "os.environ['AWS_ACCESS_KEY_ID'] = 'minio_user'\n",
    "os.environ['AWS_SECRET_ACCESS_KEY'] = 'minio_pwd'\n",
    "\n",
    "# conectar con MLflow\n",
    "mlflow.set_tracking_uri(\"http://10.43.101.108:8083\")\n",
    "mlflow.set_experiment(\"gradient_boosting_covertype\")\n",
    "mlflow.sklearn.autolog(log_model_signatures=True, log_input_examples=True, registered_model_name=\"final_model\")\n",
    "\n",
    "# ejecutar MLflow\n",
    "with mlflow.start_run(run_name=\"gradient_boosting_training\", description=\"Entrenar modelo de gradient boosting\") as run:\n",
    "    # ajustar el modelo a los datos\n",
    "    model.fit(X, y)"
   ]
  }
 ],
 "metadata": {
  "language_info": {
   "name": "python"
  }
 },
 "nbformat": 4,
 "nbformat_minor": 2
}
